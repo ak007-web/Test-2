{
 "cells": [
  {
   "cell_type": "markdown",
   "id": "b90b1acc-afc4-40fb-901f-e44eab46b40e",
   "metadata": {},
   "source": [
    "**Q) A bakery offers a 5% discount on orders above ₹500. Ask the user to enter total bill \r\n",
    "amount and calculate final price after discount (if applicable)**."
   ]
  },
  {
   "cell_type": "code",
   "execution_count": 14,
   "id": "295017be-c163-45dd-b846-161abcd81d82",
   "metadata": {},
   "outputs": [
    {
     "name": "stdin",
     "output_type": "stream",
     "text": [
      "Enter Bill Amount:  550\n"
     ]
    },
    {
     "name": "stdout",
     "output_type": "stream",
     "text": [
      "After discount, you bill amount is :  522.5\n"
     ]
    }
   ],
   "source": [
    "n=int(input(\"Enter Bill Amount: \"))\n",
    "tax=0\n",
    "bill=0\n",
    "if n>500:\n",
    "    tax=n*0.05\n",
    "    bill=n-tax\n",
    "    print(\"After discount, you bill amount is : \",bill)\n",
    "else:\n",
    "    bill=n\n",
    "    print(\"Your bill amount remains: \",bill)"
   ]
  },
  {
   "cell_type": "markdown",
   "id": "1588eef5-2ad9-408d-9ace-9d1d94026bde",
   "metadata": {},
   "source": [
    "**Q) Given the marks in 3 subjects, calculate and print the result as PASS or FAIL. A student \n",
    "passes only if all marks are >= 35.**"
   ]
  },
  {
   "cell_type": "code",
   "execution_count": 27,
   "id": "f9e721ef-12fb-4fe2-983c-bc04fcc8c7e4",
   "metadata": {},
   "outputs": [
    {
     "name": "stdin",
     "output_type": "stream",
     "text": [
      "Enter marks of 1st subject:  24\n",
      "Enter marks of 2nd subject:  45\n",
      "Enter marks of 3rd subject:  76\n"
     ]
    },
    {
     "name": "stdout",
     "output_type": "stream",
     "text": [
      "The student is Fail\n"
     ]
    }
   ],
   "source": [
    "n1=int(input(\"Enter marks of 1st subject: \"))\n",
    "n2=int(input(\"Enter marks of 2nd subject: \"))\n",
    "n3=int(input(\"Enter marks of 3rd subject: \"))\n",
    "\n",
    "if n1>=35 and n2>=35 and n3>=35:\n",
    "    print(\"The student is PASS\")\n",
    "else:\n",
    "    print(\"The student is Fail\")"
   ]
  },
  {
   "cell_type": "markdown",
   "id": "96ed145e-69ac-419b-a8e8-48b04c764fc5",
   "metadata": {},
   "source": [
    "**Q) Write a program that reads a day number (1-7) and prints whether it's a weekday or \n",
    "weekend. Handle invalid inputs as well.**"
   ]
  },
  {
   "cell_type": "code",
   "execution_count": 42,
   "id": "1db858b5-3e26-48fb-bd2c-7e11883be46c",
   "metadata": {},
   "outputs": [
    {
     "name": "stdin",
     "output_type": "stream",
     "text": [
      "Enter a number between 1-7:  3\n"
     ]
    },
    {
     "name": "stdout",
     "output_type": "stream",
     "text": [
      "It's WeekDay, Get ready for the work\n"
     ]
    }
   ],
   "source": [
    "try:\n",
    "    n=int(input(\"Enter a number between 1-7: \"))\n",
    "    if n in range(1,6):\n",
    "        print(\"It's WeekDay, Get ready for the work\")\n",
    "    elif n in range(6,8):\n",
    "        print(\"It's Weekend, Enjoy\")\n",
    "    else:\n",
    "        print(\"Invalid Input, Enter a number between 1-7\")\n",
    "except ValueError:\n",
    "    print(\"Enter a Integer Number between 1-7\")"
   ]
  },
  {
   "cell_type": "markdown",
   "id": "3bd8b45a-8594-4c01-9cff-dcc1b952771a",
   "metadata": {},
   "source": [
    "**Q) A person gets a fine if they return a library book late. First 5 days: ₹2/day, next 5 days: \n",
    "₹5/day, after that: ₹10/day. Calculate the fine based on days late.**"
   ]
  },
  {
   "cell_type": "code",
   "execution_count": 61,
   "id": "f8a5bc72-e155-4c91-a149-b8ab1e234483",
   "metadata": {},
   "outputs": [
    {
     "name": "stdin",
     "output_type": "stream",
     "text": [
      "Enter late days:  15\n"
     ]
    },
    {
     "name": "stdout",
     "output_type": "stream",
     "text": [
      "The fine is:  85\n"
     ]
    }
   ],
   "source": [
    "n=int(input(\"Enter late days: \"))\n",
    "late=0\n",
    "if n<=5:\n",
    "    late=n*2\n",
    "    print(\"The fine is: \",late)\n",
    "elif n<=10:\n",
    "    late=10+ (n-5) * 5\n",
    "    print(\"The fine is: \",late)\n",
    "elif n>10:\n",
    "    late=35+ (n-10)*10\n",
    "    print(\"The fine is: \",late)"
   ]
  },
  {
   "cell_type": "markdown",
   "id": "f3c1f601-3f3a-4c7e-963b-be27f498f9df",
   "metadata": {},
   "source": [
    "**Q) Write a function that accepts three side lengths and returns True if they can form a \n",
    "triangle (use triangle inequality).**"
   ]
  },
  {
   "cell_type": "code",
   "execution_count": 64,
   "id": "afbd4613-c8ca-4f84-bb82-5e0e0feff213",
   "metadata": {},
   "outputs": [
    {
     "name": "stdin",
     "output_type": "stream",
     "text": [
      "Enter 1st side:  1\n",
      "Enter 2nd side:  2\n",
      "Enter 3rd side:  3\n"
     ]
    },
    {
     "name": "stdout",
     "output_type": "stream",
     "text": [
      "Triangle is possible\n"
     ]
    }
   ],
   "source": [
    "a=float(input(\"Enter 1st side: \"))\n",
    "b=float(input(\"Enter 2nd side: \"))\n",
    "c=float(input(\"Enter 3rd side: \"))\n",
    "\n",
    "if a+b>c:\n",
    "    print(\"Triangle is possible\")\n",
    "elif a+c>b:\n",
    "    print(\"Triangle is possible\")\n",
    "elif b+c>a:\n",
    "    print(\"Triangle is possible\")\n",
    "else:\n",
    "    print(\"Triangle is not possible\")"
   ]
  },
  {
   "cell_type": "markdown",
   "id": "d8056150-12d7-4720-87b5-d1a20345ff5f",
   "metadata": {},
   "source": [
    "**Q) Define a function that returns the second largest number among four numbers passed to \n",
    "it.**"
   ]
  },
  {
   "cell_type": "code",
   "execution_count": 71,
   "id": "efc5ba8d-14af-44aa-93bd-77d61e5af5f8",
   "metadata": {},
   "outputs": [
    {
     "name": "stdin",
     "output_type": "stream",
     "text": [
      "Enter 1st number:  11\n",
      "Enter 2nd number:  2\n",
      "Enter 3rd number:  3\n",
      "Enter 4th number:  4\n"
     ]
    },
    {
     "name": "stdout",
     "output_type": "stream",
     "text": [
      "2nd largest number is:  4\n"
     ]
    }
   ],
   "source": [
    "a=int(input(\"Enter 1st number: \"))\n",
    "b=int(input(\"Enter 2nd number: \"))\n",
    "c=int(input(\"Enter 3rd number: \"))\n",
    "d=int(input(\"Enter 4th number: \"))\n",
    "l=[a,b,c,d]\n",
    "\n",
    "l.sort(reverse=True)\n",
    "print(\"2nd largest number is: \",l[1])\n"
   ]
  },
  {
   "cell_type": "markdown",
   "id": "f59c17f7-659a-4df3-8f90-fb51f5fd2c3a",
   "metadata": {},
   "source": [
    "- Optimizing code"
   ]
  },
  {
   "cell_type": "code",
   "execution_count": 77,
   "id": "30547dad-f8a0-407a-abfa-2714ac4c3546",
   "metadata": {},
   "outputs": [
    {
     "name": "stdin",
     "output_type": "stream",
     "text": [
      "Enter number:  1\n",
      "Enter number:  2\n",
      "Enter number:  3\n",
      "Enter number:  4\n"
     ]
    },
    {
     "name": "stdout",
     "output_type": "stream",
     "text": [
      "2nd largest number is:  3\n"
     ]
    }
   ],
   "source": [
    "l=[]\n",
    "for i in range(1,5):\n",
    "    l.append(int(input(\"Enter number: \")))\n",
    "l.sort(reverse=True)\n",
    "print(\"2nd largest number is: \",l[1])"
   ]
  },
  {
   "cell_type": "markdown",
   "id": "af92c489-65a4-4906-86ec-6e18c1250fab",
   "metadata": {},
   "source": [
    "**Q) Use map() and a lambda function to convert a list of temperatures in Celsius to \n",
    "Fahrenheit.**"
   ]
  },
  {
   "cell_type": "code",
   "execution_count": 86,
   "id": "fe1f8f44-a48c-40a8-bc78-9e4dd3e42181",
   "metadata": {},
   "outputs": [
    {
     "name": "stdout",
     "output_type": "stream",
     "text": [
      "Temperature after Celsius to Fahrenheit:  [53.6, 113.0, 152.6, 95.0]\n"
     ]
    }
   ],
   "source": [
    "cel=[12,45,67,35]\n",
    "fah=list(map(lambda c: (c * 9/5) + 32, cel))\n",
    "print(\"Temperature after Celsius to Fahrenheit: \",fah)"
   ]
  },
  {
   "cell_type": "markdown",
   "id": "7d5992d5-5b7a-4c2a-a6c4-d534b5cd043b",
   "metadata": {},
   "source": [
    "**Q) Use filter() to extract scores above 60 from a list of student scores.**"
   ]
  },
  {
   "cell_type": "code",
   "execution_count": 89,
   "id": "928fc724-759a-42f6-a652-be73ef0ed273",
   "metadata": {},
   "outputs": [
    {
     "name": "stdout",
     "output_type": "stream",
     "text": [
      "After filtering:  [67, 89, 65, 78]\n"
     ]
    }
   ],
   "source": [
    "li=[20,45,67,89,65,78,34,55,59]\n",
    "new=list(filter(lambda n:n>60,li))\n",
    "print(\"After filtering: \",new)"
   ]
  },
  {
   "cell_type": "markdown",
   "id": "6e633ae2-bcc4-4d33-974e-5024d765a8d1",
   "metadata": {},
   "source": [
    "**Q) Given a list of dictionaries with employee names and salaries, use reduce() to calculate \n",
    "the total salary payout**"
   ]
  },
  {
   "cell_type": "code",
   "execution_count": 100,
   "id": "e2c82343-da52-4e93-98ca-4472fd6453d1",
   "metadata": {},
   "outputs": [
    {
     "name": "stdout",
     "output_type": "stream",
     "text": [
      "Total salary payout: 110000\n"
     ]
    }
   ],
   "source": [
    "from functools import reduce\n",
    "emp = [\n",
    "    {\"name\": \"Akash\", \"salary\": 50000},\n",
    "    {\"name\": \"Sky\", \"salary\": 60000}\n",
    "]\n",
    "\n",
    "total = reduce(lambda acc, emp: acc + emp[\"salary\"], emp,0)\n",
    "\n",
    "print(\"Total salary payout:\", total)\n"
   ]
  },
  {
   "cell_type": "markdown",
   "id": "72122f82-09bd-4bb3-a040-2b9d92344bc4",
   "metadata": {},
   "source": [
    "**Q) Use enumerate() to print the index and element of each character in a word entered by \n",
    "the user.**"
   ]
  },
  {
   "cell_type": "code",
   "execution_count": 103,
   "id": "793281f3-ce73-4b48-8fe5-c19e31763e79",
   "metadata": {},
   "outputs": [
    {
     "name": "stdin",
     "output_type": "stream",
     "text": [
      "Enter a word:  akash\n"
     ]
    },
    {
     "name": "stdout",
     "output_type": "stream",
     "text": [
      "Index: 0, Character: 'a'\n",
      "Index: 1, Character: 'k'\n",
      "Index: 2, Character: 'a'\n",
      "Index: 3, Character: 's'\n",
      "Index: 4, Character: 'h'\n"
     ]
    }
   ],
   "source": [
    "word = input(\"Enter a word: \")\n",
    "\n",
    "for index, char in enumerate(word):\n",
    "    print(f\"Index: {index}, Character: '{char}'\")\n"
   ]
  },
  {
   "cell_type": "markdown",
   "id": "3a624387-4781-4ba2-a51b-75c1674121a0",
   "metadata": {},
   "source": [
    "**Q) Accept a sentence and print a new sentence where each word starts with a capital letter \n",
    "and ends with a period.**"
   ]
  },
  {
   "cell_type": "code",
   "execution_count": 113,
   "id": "1a033bf4-074e-4cbb-b470-72ea261c9923",
   "metadata": {},
   "outputs": [
    {
     "name": "stdin",
     "output_type": "stream",
     "text": [
      "Enter a sentence:  akash hii sky hello\n"
     ]
    },
    {
     "name": "stdout",
     "output_type": "stream",
     "text": [
      "Akash. Hii. Sky. Hello. \n"
     ]
    }
   ],
   "source": [
    "sentence = input(\"Enter a sentence: \")\n",
    "words = sentence.split()\n",
    "new= ''\n",
    "for word in words:\n",
    "    new+=word.capitalize()+'. '\n",
    "print(new)\n"
   ]
  },
  {
   "cell_type": "markdown",
   "id": "f60f0f21-7ad1-484f-9bbd-a04a6dc1035d",
   "metadata": {},
   "source": [
    "**Q) Write a program that creates a list of 10 numbers from user input and removes all \n",
    "duplicates without using set().**"
   ]
  },
  {
   "cell_type": "code",
   "execution_count": 120,
   "id": "6d023f99-f2d7-4703-b227-887f749941bb",
   "metadata": {},
   "outputs": [
    {
     "name": "stdin",
     "output_type": "stream",
     "text": [
      "Enter a number:  2\n",
      "Enter a number:  3\n",
      "Enter a number:  4\n",
      "Enter a number:  5\n",
      "Enter a number:  6\n",
      "Enter a number:  5\n",
      "Enter a number:  4\n",
      "Enter a number:  3\n",
      "Enter a number:  5\n",
      "Enter a number:  8\n"
     ]
    },
    {
     "name": "stdout",
     "output_type": "stream",
     "text": [
      "After Removing duplicates:  [2, 3, 4, 5, 6, 8]\n"
     ]
    }
   ],
   "source": [
    "li=[]\n",
    "for i in range(1,11):\n",
    "    li.append(int(input(\"Enter a number: \")))\n",
    "new=[]\n",
    "for i in li:\n",
    "    if i in new:\n",
    "        continue\n",
    "    else:\n",
    "        new.append(i)\n",
    "print(\"After Removing duplicates: \",new)"
   ]
  },
  {
   "cell_type": "markdown",
   "id": "29f8f7f5-93a9-474d-af06-00571fcd2348",
   "metadata": {},
   "source": [
    "**Q) Given a tuple of (student_name, score), write code to find the student with the second \n",
    "highest score.**"
   ]
  },
  {
   "cell_type": "code",
   "execution_count": 123,
   "id": "4aa38d21-74c6-42d4-a0ee-a8de77a6498b",
   "metadata": {},
   "outputs": [
    {
     "name": "stdout",
     "output_type": "stream",
     "text": [
      "Second highest score: Sky - 85\n"
     ]
    }
   ],
   "source": [
    "students = [\n",
    "    (\"Akash\", 75),\n",
    "    (\"Sky\", 85),\n",
    "    (\"AK\", 90)\n",
    "]\n",
    "\n",
    "sorted_students = sorted(students, key=lambda x: x[1], reverse=True)\n",
    "\n",
    "second_highest_score = sorted_students[1][1]\n",
    "\n",
    "for name, score in sorted_students:\n",
    "    if score == second_highest_score:\n",
    "        print(f\"Second highest score: {name} - {score}\")\n",
    "        break"
   ]
  },
  {
   "cell_type": "markdown",
   "id": "22611ee2-0507-4f9c-bd46-d71fd16ec6dd",
   "metadata": {},
   "source": [
    "**Q) Write a program to accept 10 integers from the user and store only unique values in a \n",
    "set.**"
   ]
  },
  {
   "cell_type": "code",
   "execution_count": 132,
   "id": "da75db54-e95b-4e9d-a22a-341f80c650b9",
   "metadata": {},
   "outputs": [
    {
     "name": "stdin",
     "output_type": "stream",
     "text": [
      "Enter number:  2\n",
      "Enter number:  3\n",
      "Enter number:  4\n",
      "Enter number:  5\n",
      "Enter number:  6\n",
      "Enter number:  5\n",
      "Enter number:  6\n",
      "Enter number:  7\n",
      "Enter number:  8\n",
      "Enter number:  9\n"
     ]
    },
    {
     "name": "stdout",
     "output_type": "stream",
     "text": [
      "List with Unique numbers:  [2, 3, 4, 5, 6, 7, 8, 9]\n"
     ]
    }
   ],
   "source": [
    "li=[]\n",
    "for i in range(1,11):\n",
    "    li.append(int(input(\"Enter number: \")))\n",
    "\n",
    "new=list(set(li))\n",
    "print(\"List with Unique numbers: \",new)"
   ]
  },
  {
   "cell_type": "markdown",
   "id": "fdd259c8-c54a-4220-a8ca-5b1e6e44e38e",
   "metadata": {},
   "source": [
    "**Q) Given a dictionary of product names and their prices, write a program to display \n",
    "products that cost more than ₹1000.**"
   ]
  },
  {
   "cell_type": "code",
   "execution_count": 141,
   "id": "db7b0c7b-1f65-4c33-8f1e-5bff106cc02f",
   "metadata": {},
   "outputs": [
    {
     "name": "stdout",
     "output_type": "stream",
     "text": [
      "Products costing more than ₹1000:\n",
      "Biscuit: ₹2010\n",
      "Wafers: ₹3500\n"
     ]
    }
   ],
   "source": [
    "products = {\n",
    "    \"Choclolate\": 500,\n",
    "    \"Biscuit\": 2010,\n",
    "    \"Ice Cream\": 700,\n",
    "    \"Wafers\": 3500\n",
    "}\n",
    "\n",
    "print(\"Products costing more than ₹1000:\")\n",
    "for product, price in products.items():\n",
    "    if price > 1000:\n",
    "        print(f\"{product}: ₹{price}\")\n"
   ]
  },
  {
   "cell_type": "markdown",
   "id": "2a396875-969f-49c8-9c75-5cb30356e68a",
   "metadata": {},
   "source": [
    "**Q) Write a program that accepts two numbers and divides them, handling the case where \n",
    "the denominator is zero.**"
   ]
  },
  {
   "cell_type": "code",
   "execution_count": 156,
   "id": "913084ce-38ad-458e-91ee-1d6258e9a75d",
   "metadata": {},
   "outputs": [
    {
     "name": "stdin",
     "output_type": "stream",
     "text": [
      "Enter 1st number:  0\n",
      "Enter 2nd number:  7\n"
     ]
    },
    {
     "name": "stdout",
     "output_type": "stream",
     "text": [
      "After dividing:  0.0\n"
     ]
    }
   ],
   "source": [
    "try:\n",
    "    a=float(input(\"Enter 1st number: \"))\n",
    "    b=float(input(\"Enter 2nd number: \"))\n",
    "\n",
    "    cal=a/b\n",
    "    print(\"After dividing: \",cal)\n",
    "except ZeroDivisionError:\n",
    "    print(\"Can't divide by zero\")"
   ]
  },
  {
   "cell_type": "markdown",
   "id": "83f3c5fc-211e-493c-b8e4-525d90ca58ea",
   "metadata": {},
   "source": [
    "**Q) Create a program that accepts an integer list and handles the exception when a non\n",
    "integer is entered**"
   ]
  },
  {
   "cell_type": "code",
   "execution_count": 187,
   "id": "f5280648-1df8-4510-a42a-6fb09102a0f9",
   "metadata": {},
   "outputs": [
    {
     "name": "stdout",
     "output_type": "stream",
     "text": [
      "Enter 5 integers:\n"
     ]
    },
    {
     "name": "stdin",
     "output_type": "stream",
     "text": [
      "Enter number 1:  2\n",
      "Enter number 2:  4\n",
      "Enter number 3:  f\n"
     ]
    },
    {
     "name": "stdout",
     "output_type": "stream",
     "text": [
      "Invalid input! Please enter a valid integer.\n"
     ]
    },
    {
     "name": "stdin",
     "output_type": "stream",
     "text": [
      "Enter number 4:  3\n",
      "Enter number 5:  4\n"
     ]
    },
    {
     "name": "stdout",
     "output_type": "stream",
     "text": [
      "Final list of integers: [2, 4, 3, 4]\n"
     ]
    }
   ],
   "source": [
    "li = []\n",
    "\n",
    "print(\"Enter 5 integers:\")\n",
    "\n",
    "for i in range(5):    \n",
    "    try:\n",
    "        n = int(input(f\"Enter number {i+1}: \"))\n",
    "        li.append(n)\n",
    "    except ValueError:\n",
    "        print(\"Invalid input! Please enter a valid integer.\")\n",
    "\n",
    "print(\"Final list of integers:\", li)\n"
   ]
  },
  {
   "cell_type": "markdown",
   "id": "499e2167-d302-4748-80df-ab734ddf98eb",
   "metadata": {},
   "source": [
    "- Optimizing code"
   ]
  },
  {
   "cell_type": "code",
   "execution_count": 193,
   "id": "763f9538-b93f-4f97-8b1d-4bb705715936",
   "metadata": {},
   "outputs": [
    {
     "name": "stdout",
     "output_type": "stream",
     "text": [
      "Enter 5 integers:\n"
     ]
    },
    {
     "name": "stdin",
     "output_type": "stream",
     "text": [
      "Enter number 1:  3\n",
      "Enter number 2:  r\n"
     ]
    },
    {
     "name": "stdout",
     "output_type": "stream",
     "text": [
      "Invalid input! Please enter a valid integer.\n"
     ]
    },
    {
     "name": "stdin",
     "output_type": "stream",
     "text": [
      "Enter number 3:  4\n",
      "Enter number 4:  r\n"
     ]
    },
    {
     "name": "stdout",
     "output_type": "stream",
     "text": [
      "Invalid input! Please enter a valid integer.\n"
     ]
    },
    {
     "name": "stdin",
     "output_type": "stream",
     "text": [
      "Enter number 5:  4\n"
     ]
    },
    {
     "name": "stdout",
     "output_type": "stream",
     "text": [
      "Final list of integers: [3, 4, 4]\n"
     ]
    }
   ],
   "source": [
    "li = []\n",
    "\n",
    "print(\"Enter 5 integers:\")\n",
    "\n",
    "for i in range(5):    \n",
    "    try:\n",
    "        li.append(int(input(f\"Enter number {i+1}: \")))\n",
    "    except ValueError:\n",
    "        print(\"Invalid input! Please enter a valid integer.\")\n",
    "\n",
    "print(\"Final list of integers:\", li)\n"
   ]
  },
  {
   "cell_type": "markdown",
   "id": "5a456596-9a30-4235-a084-1deecab95e19",
   "metadata": {},
   "source": [
    "**Q) Write a program that takes a sentence and prints the word with the highest number of \n",
    "vowels**"
   ]
  },
  {
   "cell_type": "code",
   "execution_count": null,
   "id": "e1a2a274-a282-48e2-b9f4-d527bff9ba7c",
   "metadata": {},
   "outputs": [],
   "source": []
  }
 ],
 "metadata": {
  "kernelspec": {
   "display_name": "Python 3 (ipykernel)",
   "language": "python",
   "name": "python3"
  },
  "language_info": {
   "codemirror_mode": {
    "name": "ipython",
    "version": 3
   },
   "file_extension": ".py",
   "mimetype": "text/x-python",
   "name": "python",
   "nbconvert_exporter": "python",
   "pygments_lexer": "ipython3",
   "version": "3.12.4"
  }
 },
 "nbformat": 4,
 "nbformat_minor": 5
}
